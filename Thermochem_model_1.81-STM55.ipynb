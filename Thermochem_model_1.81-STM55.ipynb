{
 "cells": [
  {
   "cell_type": "code",
   "execution_count": 1,
   "id": "75987574",
   "metadata": {},
   "outputs": [],
   "source": [
    "import pandas as pd\n",
    "import numpy as np\n",
    "import math\n",
    "import matplotlib.pyplot as plt\n",
    "import scipy.optimize\n",
    "from scipy.signal import lfilter"
   ]
  },
  {
   "cell_type": "code",
   "execution_count": 2,
   "id": "9b395452",
   "metadata": {},
   "outputs": [],
   "source": [
    "\"\"\"\n",
    "    Define simulation related parameters here\n",
    "\"\"\"\n",
    "# Mass of the sample\n",
    "mass = 0.5\n",
    "# Molar mass of the sample,SrTi0.5Mn0.5O3\n",
    "molar_mass = (87.62 + 47.867*0.5 + 54.938*0.5 + 16*3)\n",
    "# number of moles of sample\n",
    "n = mass/molar_mass\n",
    "# Ideal gas constant, unit J/mol*K\n",
    "R = 8.31446261815324\n",
    "# molar volume of gas, unit L/mol\n",
    "v_molar = 22.4 \n",
    "# flowrate, unit ml/min \n",
    "flowrate = 1000 \n",
    "# Time interval chosen for calculation, unit s\n",
    "t_interval = 0.01\n",
    "# Temperature change rate, for this simulation, cooling and ramping are both 400 C/min\n",
    "temp_rate = 400"
   ]
  },
  {
   "cell_type": "code",
   "execution_count": 3,
   "id": "b7c37b42",
   "metadata": {},
   "outputs": [],
   "source": [
    "def FindMolarFlowRate(P, V, T):\n",
    "    # P in atm, V in mL/min, T in C\n",
    "    R = 0.082057366080960 * 1000  # mL * atm / (K * mol)\n",
    "    molarFlowRate = (P * V) / (R * (T + 273.15))  # From PV = nRT, ideal gas law\n",
    "    return molarFlowRate"
   ]
  },
  {
   "cell_type": "code",
   "execution_count": 4,
   "id": "77a31c6d",
   "metadata": {},
   "outputs": [],
   "source": [
    "\"\"\"\n",
    "    Funtions used to describe entropy and enthalpy of reduction in relation with non-stoichiometry\n",
    "    entropy: J/mol*K\n",
    "    enthalpy: J/mol\n",
    "\"\"\"\n",
    "def f_entropy(delta):\n",
    "    result = -16*np.log(delta) + (-185)*delta**2 + 47*delta + 90\n",
    "    return result\n",
    "\n",
    "def f_enthalpy(delta):\n",
    "    result = 276*delta + 196.1\n",
    "    return result"
   ]
  },
  {
   "cell_type": "code",
   "execution_count": 5,
   "id": "61c65b44",
   "metadata": {},
   "outputs": [],
   "source": [
    "\"\"\"\n",
    "    Function used to calculate the equilibrium oxygen partial pressure \n",
    "    for a sample with known delta at temperature T\n",
    "    Unit: atm\n",
    "\"\"\"\n",
    "def find_eq_pO2(delta, T):\n",
    "    result = math.exp(2*(-f_enthalpy(delta)*1000 + T*f_entropy(delta)) / (R*T))\n",
    "    return result"
   ]
  },
  {
   "cell_type": "code",
   "execution_count": 6,
   "id": "8351cabb",
   "metadata": {},
   "outputs": [],
   "source": [
    "\"\"\"\n",
    "    The function can be used to find delta \n",
    "        at equilibrium conditon under oxygen partial pressure pO2 and temperature T\n",
    "    It can be used to check if the simulation arrives at a reasonable non-stoichiometry at certain point\n",
    "\"\"\"\n",
    "def find_delta(T, pO2, min_delta = 0.0001, max_delta = 0.2449):\n",
    "    min_pO2 = find_eq_pO2(max_delta, T)\n",
    "    eq_pO2 = find_eq_pO2(min_delta, T)\n",
    "    if pO2 >= eq_pO2:\n",
    "        return min_delta\n",
    "    else:\n",
    "        if pO2 < min_pO2:\n",
    "            print('Sample completely reduced')\n",
    "            return max_delta\n",
    "        else:\n",
    "            test_delta = (min_delta + max_delta) / 2\n",
    "            eq_pO2 = find_eq_pO2(test_delta, T)\n",
    "            while abs(math.log10(eq_pO2) - math.log10(pO2)) > 0.005:\n",
    "                if eq_pO2 > pO2:\n",
    "                    min_delta = test_delta\n",
    "                    test_delta = (min_delta + max_delta) / 2\n",
    "                    eq_pO2 = find_eq_pO2(test_delta, T)\n",
    "                else:\n",
    "                    max_delta = test_delta\n",
    "                    test_delta = (min_delta + max_delta) / 2\n",
    "                    eq_pO2 = find_eq_pO2(test_delta, T)\n",
    "        return test_delta\n",
    "temp_vals = range(300, 1500)"
   ]
  },
  {
   "cell_type": "code",
   "execution_count": 7,
   "id": "f75e50c4",
   "metadata": {},
   "outputs": [],
   "source": [
    "\"\"\"\n",
    "    The first redution cycle, starts at T = 25 C, \n",
    "    ramps at ramp_rate to 1350 C, stays at 1350 C for 30 min,\n",
    "    cools at cool_rate until it reaches final_temp (Tws)\n",
    "    \n",
    "    The function returns a list containing time stamp and corresponding temperature profile\n",
    "\"\"\"\n",
    "\n",
    "def initial_red_cycle_temp_profile(final_temp, ramp_rate = temp_rate, cool_rate = -temp_rate, t_interval = 0.01):\n",
    "    time = []\n",
    "    profile = []\n",
    "    T = 25\n",
    "    t = 0\n",
    "    time.append(t)\n",
    "    profile.append(T)\n",
    "    while T < 1350:\n",
    "        T += (ramp_rate)*t_interval\n",
    "        t += t_interval\n",
    "        profile.append(T)\n",
    "        time.append(t)\n",
    "    i = 0\n",
    "    while i < 30:\n",
    "        i += t_interval\n",
    "        t += t_interval\n",
    "        profile.append(T)\n",
    "        time.append(t)\n",
    "    while T > final_temp:\n",
    "        T += (cool_rate)*t_interval\n",
    "        t += t_interval\n",
    "        profile.append(T)\n",
    "        time.append(t)\n",
    "    return [time, profile]"
   ]
  },
  {
   "cell_type": "code",
   "execution_count": 8,
   "id": "44658cbe",
   "metadata": {},
   "outputs": [],
   "source": [
    "\"\"\"\n",
    "    Function used to calculate the reduction \"rate\"\n",
    "    pO2_in: gas inlet oxygen partial pressure\n",
    "    p_tot: total pressure, usually 1 atm\n",
    "\"\"\"\n",
    "def calc_red_ddelta(pO2_in, p_tot, T, delta):\n",
    "    pO2_eq = find_eq_pO2(delta, T + 273.15)\n",
    "    F = FindMolarFlowRate(p_tot, 1000, 25)\n",
    "    result = 2*F/n*(pO2_eq - pO2_in)/(p_tot - pO2_eq)\n",
    "    return result"
   ]
  },
  {
   "cell_type": "code",
   "execution_count": 9,
   "id": "5012f1e0",
   "metadata": {},
   "outputs": [],
   "source": [
    "\"\"\"\n",
    "    Simulation data of the initial reduction cycle\n",
    "\"\"\"\n",
    "T_low = 1150\n",
    "def initial_red_cycle():\n",
    "    red_timeline = initial_red_cycle_temp_profile(T_low)[0]\n",
    "    red_temp_profile = initial_red_cycle_temp_profile(T_low)[1]\n",
    "    T_initial = red_temp_profile[0]\n",
    "    delta = 0.0036\n",
    "    d_delta = calc_red_ddelta(1e-5, 1, T_initial, delta)\n",
    "    red_Vdt = max(22.4 * 1000 / (2*molar_mass) * d_delta, 0)\n",
    "    O2_rate_profile = [red_Vdt]\n",
    "    O2_prod = [0]\n",
    "    red_delta_profile = [delta]\n",
    "    rate_profile = [d_delta]\n",
    "    for i in range(len(red_timeline) - 1):\n",
    "        new_delta = rate_profile[i]*t_interval + red_delta_profile[i]\n",
    "        new_O2_prod = O2_rate_profile[i]*t_interval + O2_prod[i]\n",
    "        O2_prod.append(new_O2_prod)\n",
    "        red_delta_profile.append(new_delta)\n",
    "        new_rate = calc_red_ddelta(1e-5, 1, red_temp_profile[i + 1], new_delta)\n",
    "        new_red_Vdt = max(22.4 * 1000 / (2*molar_mass)*new_rate, 0)\n",
    "        rate_profile.append(new_rate)\n",
    "        O2_rate_profile.append(new_red_Vdt)\n",
    "    return [red_timeline, red_temp_profile, red_delta_profile, rate_profile,\n",
    "            O2_rate_profile, O2_prod]"
   ]
  },
  {
   "cell_type": "code",
   "execution_count": 10,
   "id": "fca2e747",
   "metadata": {},
   "outputs": [],
   "source": [
    "\"\"\"\n",
    "    calc_Keq returns the equilibrium coefficient K of water thermolysis reaction at temperature T\n",
    "        using free energy data in the JANAF database\n",
    "\"\"\"\n",
    "import thermochem\n",
    "from thermochem.janaf import *\n",
    "db   = Janafdb()\n",
    "H2O  = db.getphasedata(formula = 'H2O', phase = 'g')\n",
    "H2   = db.getphasedata(formula = 'H2')\n",
    "O2   = db.getphasedata(formula = 'O2')\n",
    "CO   = db.getphasedata(formula = 'CO')\n",
    "CO2  = db.getphasedata(formula = 'CO2')\n",
    "R    = 8.314\n",
    "F    = 96485\n",
    "\n",
    "def calc_Keq(T):\n",
    "    dG = H2O.DeltaG(T) - H2.DeltaG(T) - 0.5*O2.DeltaG(T)\n",
    "    return np.exp(dG/R/T)\n",
    "\n",
    "# Calculation the Vapor Pressure above water at T according to Wexler's Eqn.\n",
    "# returns pressure value in unit of Pascal\n",
    "def Pvapr_H2O(T):\n",
    "    coef_g = [-2.8365744e3, -6.028076559e3, 1.954263612e1, -2.73780188e-2,\n",
    "              1.6261698e-5, 7.0229056e-10, -1.8680009e-13]\n",
    "    return math.exp(sum([pow(T, i - 2) * coef_g[i] for i in range(7)]) + 2.7150305 * math.log(T))\n"
   ]
  },
  {
   "cell_type": "code",
   "execution_count": 11,
   "id": "579051a7",
   "metadata": {},
   "outputs": [],
   "source": [
    "\"\"\"\n",
    "    Function that describes the temperature profile of the oxidation cycle\n",
    "        Oxidation cycle is an isothermal hold at iso_temp for 60 min\n",
    "\"\"\"\n",
    "def ox_cycle_temp_profile(iso_temp, t_interval = 0.01):\n",
    "    t = 0\n",
    "    time = [t]\n",
    "    profile = [iso_temp]\n",
    "    while t < 60:\n",
    "        t += t_interval\n",
    "        time.append(t)\n",
    "        profile.append(iso_temp)\n",
    "    return [time, profile]"
   ]
  },
  {
   "cell_type": "code",
   "execution_count": 12,
   "id": "3f959b01",
   "metadata": {},
   "outputs": [],
   "source": [
    "\"\"\"\n",
    "    Funtion to calculate the oxdation rate, the partial pressure of H2O in the inlet gas is 0.4 atm\n",
    "\"\"\"\n",
    "def calc_ox_ddelta(p_tot, T, delta, xH2O = 0.4):\n",
    "    Keq = calc_Keq(T+273.15)\n",
    "    F = FindMolarFlowRate(p_tot, 300, 25)\n",
    "    pO2_eq = find_eq_pO2(delta, T + 273.15)\n",
    "    ddelta = (F/n)*((2*pO2_eq**(3/2) + 2*pO2_eq*Keq - xH2O*Keq*(p_tot-pO2_eq))\n",
    "                    /((pO2_eq**(1/2) + Keq) * (p_tot - pO2_eq)))\n",
    "    return ddelta"
   ]
  },
  {
   "cell_type": "code",
   "execution_count": 13,
   "id": "debbcfcc",
   "metadata": {},
   "outputs": [],
   "source": [
    "\"\"\"\n",
    "    Function that return all simulated result from an oxidation cycle\n",
    "\"\"\"\n",
    "def ox_cycle(prev_cycle):\n",
    "    ox_timeline = ox_cycle_temp_profile(T_low)[0]\n",
    "    ox_temp_profile = ox_cycle_temp_profile(T_low)[1]\n",
    "    delta = prev_cycle[2][-1]\n",
    "    T_cur = ox_temp_profile[0]\n",
    "    d_delta = calc_ox_ddelta(1, T_cur, delta)\n",
    "    if d_delta > 0:\n",
    "        d_delta = 0\n",
    "    ox_Vdt = -22.4 * 1000 / molar_mass * d_delta\n",
    "    H2_rate_profile = [ox_Vdt]\n",
    "    H2_prod = [0]\n",
    "    ox_delta_profile = [delta]\n",
    "    rate_profile = [d_delta]\n",
    "    for i in range(len(ox_timeline) - 1):\n",
    "        new_delta = rate_profile[i]*t_interval + ox_delta_profile[i]\n",
    "        new_H2_prod = H2_rate_profile[i]*t_interval + H2_prod[i]\n",
    "        H2_prod.append(new_H2_prod)\n",
    "        ox_delta_profile.append(new_delta)\n",
    "        new_rate = calc_ox_ddelta(1, ox_temp_profile[i + 1], new_delta)\n",
    "        if new_rate > 0:\n",
    "            new_rate = 0\n",
    "        new_ox_Vdt = -22.4 * 1000 / molar_mass * new_rate\n",
    "        rate_profile.append(new_rate)\n",
    "        H2_rate_profile.append(new_ox_Vdt)\n",
    "    return [ox_timeline, ox_temp_profile, ox_delta_profile, rate_profile,\n",
    "            H2_rate_profile, H2_prod]"
   ]
  },
  {
   "cell_type": "code",
   "execution_count": 15,
   "id": "0474595d",
   "metadata": {},
   "outputs": [],
   "source": [
    "def red_cycle_temp_profile(initial_temp, final_temp, ramp_rate = temp_rate, cool_rate = -temp_rate, t_interval = 0.01):\n",
    "    time = []\n",
    "    profile = []\n",
    "    T = initial_temp\n",
    "    t = 0\n",
    "    time.append(t)\n",
    "    profile.append(T)\n",
    "    while T < 1350:\n",
    "        T += (ramp_rate)*t_interval\n",
    "        t += t_interval\n",
    "        profile.append(T)\n",
    "        time.append(t)\n",
    "    i = 0\n",
    "    while i < 30:\n",
    "        i += t_interval\n",
    "        t += t_interval\n",
    "        profile.append(T)\n",
    "        time.append(t)\n",
    "    while T > final_temp:\n",
    "        T += (cool_rate)*t_interval\n",
    "        t += t_interval\n",
    "        profile.append(T)\n",
    "        time.append(t)\n",
    "    return [time, profile]"
   ]
  },
  {
   "cell_type": "code",
   "execution_count": 16,
   "id": "c95601e7",
   "metadata": {},
   "outputs": [],
   "source": [
    "def red_cycle(prev_cycle):\n",
    "    delta = prev_cycle[2][-1]\n",
    "    T_initial = prev_cycle[1][-1]\n",
    "    red_timeline = red_cycle_temp_profile(T_initial, T_low)[0]\n",
    "    red_temp_profile = red_cycle_temp_profile(T_initial, T_low)[1]\n",
    "    d_delta = calc_red_ddelta(1e-5, 1, T_initial, delta)\n",
    "    red_Vdt = max(22.4 * 1000 / (2*molar_mass) * d_delta, 0)\n",
    "    O2_rate_profile = [red_Vdt]\n",
    "    O2_prod = [0]\n",
    "    red_delta_profile = [delta]\n",
    "    rate_profile = [d_delta]\n",
    "    for i in range(len(red_timeline) - 1):\n",
    "        new_delta = rate_profile[i]*t_interval + red_delta_profile[i]\n",
    "        new_O2_prod = O2_rate_profile[i]*t_interval + O2_prod[i]\n",
    "        O2_prod.append(new_O2_prod)\n",
    "        red_delta_profile.append(new_delta)\n",
    "        new_rate = calc_red_ddelta(1e-5, 1, red_temp_profile[i + 1], new_delta)\n",
    "        new_red_Vdt = max(22.4 * 1000 / (2*molar_mass)*new_rate, 0)\n",
    "        rate_profile.append(new_rate)\n",
    "        O2_rate_profile.append(new_red_Vdt)\n",
    "    return [red_timeline, red_temp_profile, red_delta_profile, rate_profile,\n",
    "            O2_rate_profile, O2_prod]"
   ]
  },
  {
   "cell_type": "code",
   "execution_count": 17,
   "id": "6f8c3158",
   "metadata": {},
   "outputs": [],
   "source": [
    "def multi_cycle(num_cycle):\n",
    "    init_red_cycle = initial_red_cycle()\n",
    "    cur_red_cycle = init_red_cycle\n",
    "    red_cycles = [cur_red_cycle]\n",
    "    ox_cycle_1 = ox_cycle(cur_red_cycle)\n",
    "    cur_ox_cycle = ox_cycle_1\n",
    "    ox_cycles = [cur_ox_cycle]\n",
    "    i = 0\n",
    "    while i < num_cycle - 1:\n",
    "        cur_red_cycle = red_cycle(cur_ox_cycle)\n",
    "        red_cycles.append(cur_red_cycle)\n",
    "        cur_ox_cycle = ox_cycle(cur_red_cycle)\n",
    "        ox_cycles.append(cur_ox_cycle)\n",
    "        i += 1\n",
    "    return [red_cycles, ox_cycles]"
   ]
  },
  {
   "cell_type": "code",
   "execution_count": 18,
   "id": "2ee3bfcd",
   "metadata": {},
   "outputs": [],
   "source": [
    "complete_profile = multi_cycle(10)"
   ]
  },
  {
   "cell_type": "code",
   "execution_count": 19,
   "id": "5b16362f",
   "metadata": {},
   "outputs": [],
   "source": [
    "red_cycles = complete_profile[0]\n",
    "ox_cycles = complete_profile[1]"
   ]
  },
  {
   "cell_type": "code",
   "execution_count": 20,
   "id": "1c831155",
   "metadata": {},
   "outputs": [],
   "source": [
    "t = 0\n",
    "complete_timeline = []\n",
    "complete_H2_rate_profile = []\n",
    "complete_O2_rate_profile = []\n",
    "complete_ox_delta = []\n",
    "H2_prod_percycle = []\n",
    "O2_prod_percycle = []\n",
    "for i in range(len(ox_cycles)):\n",
    "    red_cycle = red_cycles[i]\n",
    "    ox_cycle = ox_cycles[i]\n",
    "    for j in range(len(red_cycle[0])):\n",
    "        complete_timeline.append(t + red_cycle[0][j])\n",
    "        complete_O2_rate_profile.append(red_cycle[4][j])\n",
    "        complete_H2_rate_profile.append(0)\n",
    "    t = t + red_cycle[0][-1]\n",
    "    for j in range(len(ox_cycle[0])):\n",
    "        complete_timeline.append(t + ox_cycle[0][j])\n",
    "        complete_H2_rate_profile.append(ox_cycle[4][j])\n",
    "        complete_O2_rate_profile.append(0)\n",
    "    t = t + ox_cycle[0][-1]\n",
    "    H2_prod_percycle.append(ox_cycle[5][-1])\n",
    "    O2_prod_percycle.append(red_cycle[5][-1])"
   ]
  },
  {
   "cell_type": "code",
   "execution_count": 21,
   "id": "67fe3dfd",
   "metadata": {},
   "outputs": [
    {
     "data": {
      "text/plain": [
       "[<matplotlib.lines.Line2D at 0x1f954530d00>]"
      ]
     },
     "execution_count": 21,
     "metadata": {},
     "output_type": "execute_result"
    },
    {
     "data": {
      "image/png": "[encoded data removed]",
      "text/plain": [
       "<Figure size 432x288 with 1 Axes>"
      ]
     },
     "metadata": {
      "needs_background": "light"
     },
     "output_type": "display_data"
    }
   ],
   "source": [
    "plt.plot(ox_cycles[0][0], ox_cycles[0][4])"
   ]
  },
  {
   "cell_type": "code",
   "execution_count": 22,
   "id": "c07dcdca",
   "metadata": {},
   "outputs": [
    {
     "data": {
      "text/plain": [
       "[<matplotlib.lines.Line2D at 0x1f954fee310>]"
      ]
     },
     "execution_count": 22,
     "metadata": {},
     "output_type": "execute_result"
    },
    {
     "data": {
      "image/png": "[encoded data removed]",
      "text/plain": [
       "<Figure size 1600x320 with 2 Axes>"
      ]
     },
     "metadata": {
      "needs_background": "light"
     },
     "output_type": "display_data"
    }
   ],
   "source": [
    "plt.figure(figsize=(20, 4), dpi=80)\n",
    "plt.subplot(2, 1, 1)\n",
    "plt.plot(complete_timeline, complete_H2_rate_profile)\n",
    "plt.subplot(2, 1, 2)\n",
    "plt.plot(complete_timeline, complete_O2_rate_profile)"
   ]
  },
  {
   "cell_type": "code",
   "execution_count": 23,
   "id": "d4a5339c",
   "metadata": {},
   "outputs": [
    {
     "data": {
      "text/plain": [
       "Text(0, 0.5, 'Cumulative $H_{2}$ production (mL/g)')"
      ]
     },
     "execution_count": 23,
     "metadata": {},
     "output_type": "execute_result"
    },
    {
     "data": {
      "image/png": "[encoded data removed]",
      "text/plain": [
       "<Figure size 432x288 with 1 Axes>"
      ]
     },
     "metadata": {
      "needs_background": "light"
     },
     "output_type": "display_data"
    }
   ],
   "source": [
    "plt.bar(range(1, 11), H2_prod_percycle)\n",
    "plt.xlabel('Cycle')\n",
    "plt.ylabel('Cumulative $H_{2}$ production (mL/g)' )"
   ]
  },
  {
   "cell_type": "code",
   "execution_count": 24,
   "id": "79a7817a",
   "metadata": {},
   "outputs": [],
   "source": [
    "d = {'Cycles': range(1, 11), 'H2 production (mL/g)': H2_prod_percycle,\n",
    "         'O2 production (mL/g)': O2_prod_percycle}"
   ]
  },
  {
   "cell_type": "code",
   "execution_count": 25,
   "id": "b174ab4f",
   "metadata": {},
   "outputs": [
    {
     "name": "stdout",
     "output_type": "stream",
     "text": [
      "7.156185538128359\n",
      "3.584020578397703\n"
     ]
    }
   ],
   "source": [
    "print(d['H2 production (mL/g)'][9])\n",
    "print(d['O2 production (mL/g)'][9])"
   ]
  },
  {
   "cell_type": "code",
   "execution_count": 26,
   "id": "a919033d",
   "metadata": {},
   "outputs": [
    {
     "data": {
      "text/plain": [
       "<Figure size 2304x1296 with 0 Axes>"
      ]
     },
     "metadata": {},
     "output_type": "display_data"
    },
    {
     "data": {
      "image/png": "[encoded data removed]",
      "text/plain": [
       "<Figure size 432x288 with 1 Axes>"
      ]
     },
     "metadata": {
      "needs_background": "light"
     },
     "output_type": "display_data"
    }
   ],
   "source": [
    "plt.figure(figsize=(32, 18))\n",
    "len(H2_prod_percycle)\n",
    "df = pd.DataFrame(data = d)\n",
    "ax = df.plot(x=\"Cycles\", y=[\"H2 production (mL/g)\", \"O2 production (mL/g)\"], \n",
    "             kind=\"bar\", rot=0, title='m = 0.63g, $T_{ws}$ = 1150C')"
   ]
  },
  {
   "cell_type": "code",
   "execution_count": null,
   "id": "de535682",
   "metadata": {},
   "outputs": [],
   "source": [
    "#df.to_csv('STM55_0.5g_1150C.csv')"
   ]
  },
  {
   "cell_type": "code",
   "execution_count": 27,
   "id": "b203bd78",
   "metadata": {},
   "outputs": [],
   "source": [
    "t = 0\n",
    "complete_timeline = []\n",
    "complete_H2_rate_profile = []\n",
    "complete_O2_rate_profile = []\n",
    "complete_temp_profile = []\n",
    "complete_delta = []\n",
    "H2_prod_percycle = []\n",
    "O2_prod_percycle = []\n",
    "for i in range(3):\n",
    "    red_cycle = red_cycles[i]\n",
    "    ox_cycle = ox_cycles[i]\n",
    "    for j in range(len(red_cycle[0])):\n",
    "        complete_temp_profile.append(red_cycle[1][j])\n",
    "        complete_timeline.append(t + red_cycle[0][j])\n",
    "        complete_O2_rate_profile.append(red_cycle[4][j])\n",
    "        complete_H2_rate_profile.append(0)\n",
    "        complete_delta.append(red_cycle[2][j])\n",
    "    t = t + red_cycle[0][-1]\n",
    "    for j in range(len(ox_cycle[0])):\n",
    "        complete_timeline.append(t + ox_cycle[0][j])\n",
    "        complete_temp_profile.append(ox_cycle[1][j])\n",
    "        complete_H2_rate_profile.append(ox_cycle[4][j])\n",
    "        complete_O2_rate_profile.append(0)\n",
    "        complete_delta.append(ox_cycle[2][j])\n",
    "    t = t + ox_cycle[0][-1]\n",
    "    H2_prod_percycle.append(ox_cycle[5][-1])\n",
    "    O2_prod_percycle.append(red_cycle[5][-1])"
   ]
  },
  {
   "cell_type": "code",
   "execution_count": 28,
   "id": "66b090c7",
   "metadata": {},
   "outputs": [
    {
     "data": {
      "text/plain": [
       "<Figure size 1600x320 with 0 Axes>"
      ]
     },
     "metadata": {},
     "output_type": "display_data"
    },
    {
     "data": {
      "image/png": "[encoded data removed]",
      "text/plain": [
       "<Figure size 432x288 with 1 Axes>"
      ]
     },
     "metadata": {
      "needs_background": "light"
     },
     "output_type": "display_data"
    }
   ],
   "source": [
    "plt.figure(figsize=(20, 4), dpi=80)\n",
    "fig, ax = plt.subplots()\n",
    "ax.axis([-10, 100, 500, 1600])\n",
    "plt.plot(complete_timeline, complete_temp_profile, color = 'black')\n",
    "#plt.axvline(x=(1350-590)/400, color = 'r', linestyle = ':')\n",
    "plt.axvline(x=(1350-590)/400 + (1350-900)/400+30 + 0.5, color = 'r', linestyle = ':')\n",
    "ax.text((1350-590)/400 + 2, 1450, '10 ppm $O_{2}$ in Ar', color = 'r')\n",
    "ax.text((1350-590)/400 - 1, 1380, '$V_{TR}$ = 1000 mL/min', color = 'r')\n",
    "ax.text((1350-590)/400 + 4, 1300, '$T_{TR}$ = 1350 C', color = 'r')\n",
    "ax.text((1350-590)/400 + 4, 1250, '$t_{TR}$ = 30 min', color = 'r')\n",
    "ax.text(55, 1200 + 250, 'humidified Ar', color = 'b')\n",
    "ax.text(50, 1130 + 250, '$V_{WS}$ = 300 mL/min', color = 'b')\n",
    "ax.text(55, 1060 + 250, '$T_{WS}$ = 900 C', color = 'b')\n",
    "ax.text(52, 1000 + 250, 'p$H_{2}$O = 0.4 atm', color = 'b')\n",
    "ax.text(52, 930 + 250, '$t_{WS}$ = 60 min', color = 'b')\n",
    "ax.text((1350-590)/800 + 1, 1000, 'ramp: 400 C/min', color = 'r')\n",
    "ax.text(35, 800+250, 'quench = 400 C/min', color = 'b')\n",
    "plt.xlabel('Time (min)')\n",
    "plt.ylabel('Temperature (C)')\n",
    "plt.savefig('Test.jpeg', dpi = 1000)\n",
    "plt.show()"
   ]
  },
  {
   "cell_type": "code",
   "execution_count": 29,
   "id": "e0e6f5ad",
   "metadata": {},
   "outputs": [
    {
     "data": {
      "text/plain": [
       "Text(0.5, 0, 'Time (min)')"
      ]
     },
     "execution_count": 29,
     "metadata": {},
     "output_type": "execute_result"
    },
    {
     "data": {
      "image/png": "[encoded data removed]",
      "text/plain": [
       "<Figure size 640x480 with 2 Axes>"
      ]
     },
     "metadata": {
      "needs_background": "light"
     },
     "output_type": "display_data"
    }
   ],
   "source": [
    "plt.figure(figsize=(8, 6), dpi=80)\n",
    "plt.subplot(2, 1, 1)\n",
    "plt.plot(complete_timeline, complete_temp_profile)\n",
    "plt.ylabel('Temperature (C)')\n",
    "plt.subplot(2, 1, 2)\n",
    "plt.plot(complete_timeline, complete_delta)\n",
    "plt.ylabel('Non-stoichiometry')\n",
    "plt.xlabel('Time (min)')\n"
   ]
  },
  {
   "cell_type": "code",
   "execution_count": 30,
   "id": "45524853",
   "metadata": {},
   "outputs": [
    {
     "data": {
      "text/plain": [
       "Text(0.5, 0, 'Time (min)')"
      ]
     },
     "execution_count": 30,
     "metadata": {},
     "output_type": "execute_result"
    },
    {
     "data": {
      "image/png": "[encoded data removed]",
      "text/plain": [
       "<Figure size 600x480 with 2 Axes>"
      ]
     },
     "metadata": {
      "needs_background": "light"
     },
     "output_type": "display_data"
    }
   ],
   "source": [
    "plt.figure(figsize=(7.5, 6), dpi=80)\n",
    "plt.subplot(2, 1, 1)\n",
    "plt.plot(complete_timeline, complete_O2_rate_profile)\n",
    "plt.ylabel('O2 production rate (mL/g*min)')\n",
    "plt.subplot(2, 1, 2)\n",
    "plt.plot(complete_timeline, complete_H2_rate_profile)\n",
    "plt.ylabel('H2 production rate (mL/g*min)')\n",
    "plt.xlabel('Time (min)')"
   ]
  },
  {
   "cell_type": "code",
   "execution_count": null,
   "id": "a81f44f2",
   "metadata": {},
   "outputs": [],
   "source": []
  }
 ],
 "metadata": {
  "kernelspec": {
   "display_name": "Python 3 (ipykernel)",
   "language": "python",
   "name": "python3"
  },
  "language_info": {
   "codemirror_mode": {
    "name": "ipython",
    "version": 3
   },
   "file_extension": ".py",
   "mimetype": "text/x-python",
   "name": "python",
   "nbconvert_exporter": "python",
   "pygments_lexer": "ipython3",
   "version": "3.9.7"
  }
 },
 "nbformat": 4,
 "nbformat_minor": 5
}
